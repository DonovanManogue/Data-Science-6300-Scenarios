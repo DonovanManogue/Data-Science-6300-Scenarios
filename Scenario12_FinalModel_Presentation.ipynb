{
 "cells": [
  {
   "cell_type": "markdown",
   "metadata": {},
   "source": [
    "<h1 style=\"color:blue;\">Scenario 12 - Final Model</h1> \n",
    "\n",
    "\n",
    "- C1.S12.Py01 – Label encoding Grade data (Scenario12_Presentation.ipynb)\n",
    "- **C1.S12.Py02 - Building a regression model with backwards elimination (Scenario12_DataModeling.ipynb)**\n",
    "- **C1.S12.Py03 - Reviewing the final regression model (Scenario12_DataModeling.ipynb)**\n",
    "- C1.S12.Py04 - The CRISP approach in brief\n",
    "- C1.S12.Py05 - Using Markdown to emphasize CRISP approach in code (CRISP_DataModeling_Template.ipynb)\n",
    "\n",
    "\n"
   ]
  },
  {
   "cell_type": "code",
   "execution_count": null,
   "metadata": {},
   "outputs": [],
   "source": [
    "#Code Block 1\n",
    "\n",
    "import numpy as np\n",
    "import pandas as pd\n",
    "import matplotlib.pyplot as plt\n",
    "import seaborn as sns\n",
    "\n",
    "\n",
    "\n",
    "#style options \n",
    "\n",
    "%matplotlib inline  \n",
    "#if you want graphs to automatically without plt.show\n",
    "\n",
    "pd.set_option('display.max_columns',500) #allows for up to 500 columns to be displayed when viewing a dataframe\n",
    "\n",
    "plt.style.use('seaborn') #a style that can be used for plots - see style reference above\n",
    "\n"
   ]
  },
  {
   "cell_type": "code",
   "execution_count": null,
   "metadata": {},
   "outputs": [],
   "source": [
    "#Code Block 2\n",
    "df = pd.read_csv('data/Scenario12.csv', index_col = 0, header=0) \n",
    "    #DOES set the first column to the index\n",
    "    # and the top row as the headers"
   ]
  },
  {
   "cell_type": "markdown",
   "metadata": {},
   "source": [
    "<h2 style=\"color:blue;\">Building a regression model with backwards elimination </h2>\n",
    "\n",
    "## A Parsimonuous Model\n",
    "**Definition:** \n",
    "- Parsimonious models are simple models with great explanatory predictive power. They explain data with a minimum number of parameters, or predictor variables.\n",
    "- https://www.statisticshowto.com/parsimonious-model/\n",
    "\n",
    "\n",
    "### Convert or Exclude all features that should not be included:\n",
    "- Convert to dummy variables ***(ex. Home Ownership  - Already Complete)\n",
    "- Convert to qualitative features to linear numerical values ***(ex. Grade - Already Complete)***\n",
    "- Drop features that do not add value or are not feasible for the model\n",
    "     - Do not include features that are not available at the time of decision ***(Grade - Still needed)***\n",
    "     - Do not include features that do not have a logical linear relationship to the target variable ***(ex. MemberID or Date - Already Complete)***\n",
    "\n",
    "### Create the model \n",
    "1. Create an initial model with ALL **independent features (X)** and your **target variable (y)**\n",
    "2. Review all p-values for each individual coefficient to see which ones are not significant ***(p-value > 0.05)***\n",
    "3. Eliminate the feature with the highest p-value (only if it is above 0.05) from the model (only the highest, not all features with a p-value above 0.05) and re-run regression each time.\n",
    "4. After eliminating one feature, reassess the new model non-significant p-values (above 0.05).  If any p-values are above 0.05 and go back to step 3.  If no p-values are above 0.05, then proceed to step 5. \n",
    "5. For the final model, check for multi-collinearity with correlation matrix and VIF. You may want to eliminate one or two more features based on multi-collinearity.\n",
    "6. Once there are no more non-significant variables and you are satisfied with the model interaction between features (multi-collinearity), you have your ***final parsimonuous model***."
   ]
  },
  {
   "cell_type": "code",
   "execution_count": null,
   "metadata": {
    "scrolled": false
   },
   "outputs": [],
   "source": [
    "#Code Block 3\n",
    "display(df.info())\n",
    "df.head()"
   ]
  },
  {
   "cell_type": "markdown",
   "metadata": {},
   "source": [
    "### Drop\n",
    "- MemberID              ***(DROP - not linear to target variable)***           \n",
    "- LoanID                ***(DROP - not linear to target variable)***\n",
    "- Grade                 ***(DROP - not known when interest rate is determined)*** \n",
    "- Day                   ***(DROP - not linear to target variable)***           \n",
    "- Month                 ***(DROP - not linear to target variable)*** \n",
    "- Year                  ***(DROP - not linear to target variable)*** "
   ]
  },
  {
   "cell_type": "code",
   "execution_count": null,
   "metadata": {},
   "outputs": [],
   "source": [
    "#Code Block 4\n",
    "df_reg = df.copy()"
   ]
  },
  {
   "cell_type": "code",
   "execution_count": null,
   "metadata": {},
   "outputs": [],
   "source": [
    "#Code Block 5\n",
    "df_reg.columns"
   ]
  },
  {
   "cell_type": "markdown",
   "metadata": {},
   "source": [
    "### Create X and y by DROPPING features"
   ]
  },
  {
   "cell_type": "code",
   "execution_count": null,
   "metadata": {},
   "outputs": [],
   "source": [
    "#Code Block 6\n",
    "df_reg = df_reg.drop(['Origination Date','Member ID', 'Loan ID','Employee Title', 'Grade', 'TermString','Zip Code of Residence', 'State of Residence',\n",
    "                      'Day', 'Month', 'Year', 'MORTGAGE', 'debt_consolidation'], axis = 1)\n",
    "df_reg.info()"
   ]
  },
  {
   "cell_type": "code",
   "execution_count": null,
   "metadata": {},
   "outputs": [],
   "source": [
    "#Code Block 7\n",
    "X = df_reg.drop('Interest Rate', axis = 1)\n",
    "y = df_reg[['Interest Rate']]"
   ]
  },
  {
   "cell_type": "code",
   "execution_count": null,
   "metadata": {},
   "outputs": [],
   "source": [
    "#Code Block 8\n",
    "df_reg = df.copy()"
   ]
  },
  {
   "cell_type": "markdown",
   "metadata": {},
   "source": [
    "### Create X and y by INCLUDING features\n",
    "\n",
    "- By including instead of dropping, you can document the features used in the model in a more efficient way."
   ]
  },
  {
   "cell_type": "code",
   "execution_count": null,
   "metadata": {},
   "outputs": [],
   "source": [
    "#Code Block 9\n",
    "X = df_reg[['Amount Funded', 'Total Debt', 'Annual Income', 'Revolving Balance',\n",
    "      'Total Revolving Credit Line', 'Term', 'Length of Employment', \n",
    "      'Delinquencies Past 24 Months', 'Credit Inquires Last 6 Months',\n",
    "      'Open Accounts', 'Loan_Income','Debt_Income', 'RevBal_Line', 'RevBal_Income', \n",
    "      'Income Verification','IncVer_Income_act',  'OTHER', 'OWN', 'RENT', 'Own_RevLine_act', \n",
    "      'car', 'credit_card', 'home_improvement', 'house', 'major_purchase', 'medical', 'moving',\n",
    "      'other', 'renewable_energy', 'small_business', 'vacation', 'wedding']]\n",
    "\n",
    "y = df_reg[['Interest Rate']]\n",
    "X.info()"
   ]
  },
  {
   "cell_type": "markdown",
   "metadata": {},
   "source": [
    "<h3 style=\"color:blue;\">Initial Regression Model </h3>\n"
   ]
  },
  {
   "cell_type": "code",
   "execution_count": null,
   "metadata": {},
   "outputs": [],
   "source": [
    "#Code Block 10\n",
    "import statsmodels\n",
    "import statsmodels.api as sm"
   ]
  },
  {
   "cell_type": "code",
   "execution_count": null,
   "metadata": {},
   "outputs": [],
   "source": [
    "#Code Block 11\n",
    "X = sm.add_constant(X) # adding a constant\n",
    "\n",
    "reg = sm.OLS(y, X).fit()\n",
    "\n",
    "predictions = reg.predict(X) \n",
    "resid = reg.resid\n",
    "reg.summary()"
   ]
  },
  {
   "cell_type": "markdown",
   "metadata": {},
   "source": [
    "<h3 style=\"color:blue;\">Step 1: Remove ['major_purchase'] </h3>"
   ]
  },
  {
   "cell_type": "code",
   "execution_count": null,
   "metadata": {},
   "outputs": [],
   "source": [
    "#Code Block 12\n",
    "\n",
    "#Step 1: exclude 'major_purchase'\n",
    "\n",
    "\n",
    "X = df_reg[['Amount Funded', 'Total Debt', 'Annual Income', 'Revolving Balance',\n",
    "      'Total Revolving Credit Line', 'Term', 'Length of Employment', \n",
    "      'Delinquencies Past 24 Months', 'Credit Inquires Last 6 Months',\n",
    "      'Open Accounts', 'Loan_Income','Debt_Income', 'RevBal_Line', 'RevBal_Income', \n",
    "      'Income Verification','IncVer_Income_act',  'OTHER', 'OWN', 'RENT', 'Own_RevLine_act', \n",
    "      'car', 'credit_card', 'home_improvement', 'house', 'medical', 'moving',\n",
    "      'other', 'renewable_energy', 'small_business', 'vacation', 'wedding']]\n",
    "\n",
    "X_excluded = df_reg['major_purchase']"
   ]
  },
  {
   "cell_type": "code",
   "execution_count": null,
   "metadata": {},
   "outputs": [],
   "source": [
    "#Code Block 13\n",
    "X = sm.add_constant(X) # adding a constant\n",
    "\n",
    "reg1 = sm.OLS(y, X).fit()\n",
    "\n",
    "predictions1 = reg1.predict(X) \n",
    "resid1 = reg1.resid\n",
    "reg1.summary()"
   ]
  },
  {
   "cell_type": "markdown",
   "metadata": {},
   "source": [
    "<h3 style=\"color:blue;\">Step 2: Remove ['Length of Employment'] </h3>"
   ]
  },
  {
   "cell_type": "code",
   "execution_count": null,
   "metadata": {},
   "outputs": [],
   "source": [
    "#Code Block 14\n",
    "\n",
    "#Step 1: exclude 'major_purchase'\n",
    "#Step 2: exclude 'Length of Employment'\n",
    "\n",
    "\n",
    "X = df_reg[['Amount Funded', 'Total Debt', 'Annual Income', 'Revolving Balance',\n",
    "      'Total Revolving Credit Line', 'Term', 'Length of Employment', \n",
    "      'Delinquencies Past 24 Months', 'Credit Inquires Last 6 Months',\n",
    "      'Open Accounts', 'Loan_Income','Debt_Income', 'RevBal_Line', 'RevBal_Income', \n",
    "      'Income Verification','IncVer_Income_act',  'OTHER', 'OWN', 'RENT', 'Own_RevLine_act', \n",
    "      'car', 'credit_card', 'home_improvement', 'house', 'medical', 'moving',\n",
    "      'other', 'renewable_energy', 'small_business', 'vacation', 'wedding']]\n",
    "\n",
    "X_excluded = df_reg[['major_purchase', 'Length of Employment']]"
   ]
  },
  {
   "cell_type": "code",
   "execution_count": null,
   "metadata": {},
   "outputs": [],
   "source": [
    "#Code Block 15\n",
    "X = sm.add_constant(X) # adding a constant\n",
    "\n",
    "reg2 = sm.OLS(y, X).fit()\n",
    "\n",
    "predictions2 = reg2.predict(X) \n",
    "resid2 = reg2.resid\n",
    "reg2.summary()"
   ]
  },
  {
   "cell_type": "markdown",
   "metadata": {},
   "source": [
    "<h3 style=\"color:blue;\">Step 3: Remove ['home_improvement'] </h3>"
   ]
  },
  {
   "cell_type": "code",
   "execution_count": null,
   "metadata": {},
   "outputs": [],
   "source": [
    "#Code Block 16\n",
    "\n",
    "#Step 1: exclude 'major_purchase'\n",
    "#Step 2: exclude 'Length of Employment'\n",
    "#Step 3: exclude 'home_improvement'\n",
    "\n",
    "\n",
    "X = df_reg[['Amount Funded', 'Total Debt', 'Annual Income', 'Revolving Balance',\n",
    "      'Total Revolving Credit Line', 'Term', \n",
    "      'Delinquencies Past 24 Months', 'Credit Inquires Last 6 Months',\n",
    "      'Open Accounts', 'Loan_Income','Debt_Income', 'RevBal_Line', 'RevBal_Income', \n",
    "      'Income Verification','IncVer_Income_act',  'OTHER', 'OWN', 'RENT', 'Own_RevLine_act', \n",
    "      'car', 'credit_card', 'house', 'medical', 'moving',\n",
    "      'other', 'renewable_energy', 'small_business', 'vacation', 'wedding']]\n",
    "\n",
    "X_excluded = df_reg[['major_purchase', 'Length of Employment', 'home_improvement']]\n"
   ]
  },
  {
   "cell_type": "code",
   "execution_count": null,
   "metadata": {},
   "outputs": [],
   "source": [
    "#Code Block 17\n",
    "X = sm.add_constant(X) # adding a constant\n",
    "\n",
    "reg3 = sm.OLS(y, X).fit()\n",
    "\n",
    "predictions3 = reg3.predict(X) \n",
    "resid3 = reg3.resid\n",
    "reg3.summary()"
   ]
  },
  {
   "cell_type": "markdown",
   "metadata": {},
   "source": [
    "<h3 style=\"color:blue;\">Step 4: Remove ['house'] </h3>"
   ]
  },
  {
   "cell_type": "code",
   "execution_count": null,
   "metadata": {},
   "outputs": [],
   "source": [
    "#Code Block 18\n",
    "\n",
    "#Step 1: exclude 'major_purchase'\n",
    "#Step 2: exclude 'Length of Employment'\n",
    "#Step 3: exclude 'home_improvement'\n",
    "#Step 4: exclude 'house'\n",
    "\n",
    "\n",
    "X = df_reg[['Amount Funded', 'Total Debt', 'Annual Income', 'Revolving Balance',\n",
    "      'Total Revolving Credit Line', 'Term', \n",
    "      'Delinquencies Past 24 Months', 'Credit Inquires Last 6 Months',\n",
    "      'Open Accounts', 'Loan_Income','Debt_Income', 'RevBal_Line', 'RevBal_Income', \n",
    "      'Income Verification','IncVer_Income_act',  'OTHER', 'OWN', 'RENT', 'Own_RevLine_act', \n",
    "      'car', 'credit_card', 'medical', 'moving',\n",
    "      'other', 'renewable_energy', 'small_business', 'vacation', 'wedding']]\n",
    "\n",
    "X_excluded = df_reg[['major_purchase', 'Length of Employment', 'home_improvement', 'house' ]]"
   ]
  },
  {
   "cell_type": "code",
   "execution_count": null,
   "metadata": {},
   "outputs": [],
   "source": [
    "#Code Block 19\n",
    "\n",
    "X = sm.add_constant(X) # adding a constant\n",
    "\n",
    "reg4 = sm.OLS(y, X).fit()\n",
    "\n",
    "predictions4 = reg4.predict(X) \n",
    "resid4 = reg4.resid\n",
    "reg4.summary()"
   ]
  },
  {
   "cell_type": "markdown",
   "metadata": {},
   "source": [
    "<h3 style=\"color:blue;\">Step 5: Remove ['Own_RevLine_act'] </h3>"
   ]
  },
  {
   "cell_type": "code",
   "execution_count": null,
   "metadata": {},
   "outputs": [],
   "source": [
    "#Code Block 20\n",
    "\n",
    "#Step 1: exclude 'major_purchase'\n",
    "#Step 2: exclude 'Length of Employment'\n",
    "#Step 3: exclude 'home_improvement'\n",
    "#Step 4: exclude 'house'\n",
    "#Step 5: exclude 'Own_RevLine_act'\n",
    "\n",
    "X = df_reg[['Amount Funded', 'Total Debt', 'Annual Income', 'Revolving Balance',\n",
    "      'Total Revolving Credit Line', 'Term', \n",
    "      'Delinquencies Past 24 Months', 'Credit Inquires Last 6 Months',\n",
    "      'Open Accounts', 'Loan_Income','Debt_Income', 'RevBal_Line', 'RevBal_Income', \n",
    "      'Income Verification','IncVer_Income_act',  'OTHER', 'OWN', 'RENT', \n",
    "      'car', 'credit_card', 'medical', 'moving',\n",
    "      'other', 'renewable_energy', 'small_business', 'vacation', 'wedding']]\n",
    "\n",
    "X_excluded = df_reg[['major_purchase', 'Length of Employment', 'home_improvement', 'house' ,'Own_RevLine_act']]"
   ]
  },
  {
   "cell_type": "code",
   "execution_count": null,
   "metadata": {},
   "outputs": [],
   "source": [
    "#Code Block 21\n",
    "\n",
    "X = sm.add_constant(X) # adding a constant\n",
    "\n",
    "reg5 = sm.OLS(y, X).fit()\n",
    "\n",
    "predictions5 = reg5.predict(X) \n",
    "resid5 = reg5.resid\n",
    "reg5.summary()"
   ]
  },
  {
   "cell_type": "markdown",
   "metadata": {},
   "source": [
    "<h3 style=\"color:blue;\">Step 6: Remove ['car'] </h3>"
   ]
  },
  {
   "cell_type": "code",
   "execution_count": null,
   "metadata": {},
   "outputs": [],
   "source": [
    "#Code Block 22\n",
    "\n",
    "#Step 1: exclude 'major_purchase'\n",
    "#Step 2: exclude 'Length of Employment'\n",
    "#Step 3: exclude 'home_improvement'\n",
    "#Step 4: exclude 'house'\n",
    "#Step 5: exclude 'Own_RevLine_act'\n",
    "#Step 6: exclude 'car'\n",
    "\n",
    "X = df_reg[['Amount Funded', 'Total Debt', 'Annual Income', 'Revolving Balance',\n",
    "            'Total Revolving Credit Line', 'Term', \n",
    "            'Delinquencies Past 24 Months', 'Credit Inquires Last 6 Months',\n",
    "            'Open Accounts', 'Loan_Income','Debt_Income', 'RevBal_Line', 'RevBal_Income', \n",
    "            'Income Verification','IncVer_Income_act',  'OTHER', 'OWN', 'RENT', \n",
    "            'credit_card', 'medical', 'moving',\n",
    "            'other', 'renewable_energy', 'small_business', 'vacation', 'wedding']]\n",
    "\n",
    "X_excluded = df_reg[['major_purchase', 'Length of Employment', 'home_improvement', 'house' ,'Own_RevLine_act', 'car']]"
   ]
  },
  {
   "cell_type": "code",
   "execution_count": null,
   "metadata": {
    "scrolled": false
   },
   "outputs": [],
   "source": [
    "#Code Block 23\n",
    "X = sm.add_constant(X) # adding a constant\n",
    "\n",
    "reg6 = sm.OLS(y, X).fit()\n",
    "\n",
    "predictions6 = reg6.predict(X) \n",
    "resid6 = reg6.resid\n",
    "reg6.summary()"
   ]
  },
  {
   "cell_type": "markdown",
   "metadata": {},
   "source": [
    "<h3 style=\"color:red;\">Should we remove ['IncVer_Income_act']? </h3>"
   ]
  },
  {
   "cell_type": "markdown",
   "metadata": {},
   "source": [
    "<h3 style=\"color:blue;\">Step 7: Remove ['IncVer_Income_act'] </h3>"
   ]
  },
  {
   "cell_type": "code",
   "execution_count": null,
   "metadata": {},
   "outputs": [],
   "source": [
    "#Code Block 24\n",
    "\n",
    "#Step 1: exclude 'major_purchase'\n",
    "#Step 2: exclude 'Length of Employment'\n",
    "#Step 3: exclude 'home_improvement'\n",
    "#Step 4: exclude 'house'\n",
    "#Step 5: exclude 'Own_RevLine_act'\n",
    "#Step 6: exclude 'car'\n",
    "\n",
    "#Additional Regression Check\n",
    "##Step 7: exclude 'IncVer_Income_act'\n",
    "\n",
    "X = df_reg[['Amount Funded', 'Total Debt', 'Annual Income', 'Revolving Balance',\n",
    "            'Total Revolving Credit Line', 'Term', \n",
    "            'Delinquencies Past 24 Months', 'Credit Inquires Last 6 Months',\n",
    "            'Open Accounts', 'Loan_Income','Debt_Income', 'RevBal_Line', 'RevBal_Income', \n",
    "            'Income Verification',  'OTHER', 'OWN', 'RENT', \n",
    "            'credit_card', 'medical', 'moving',\n",
    "            'other', 'renewable_energy', 'small_business', 'vacation', 'wedding']]\n",
    "\n",
    "X_excluded = df_reg[['major_purchase', 'Length of Employment', 'home_improvement', 'house' ,\n",
    "                     'Own_RevLine_act', 'car', 'IncVer_Income_act']]"
   ]
  },
  {
   "cell_type": "code",
   "execution_count": null,
   "metadata": {},
   "outputs": [],
   "source": [
    "#Code Block 25\n",
    "X = sm.add_constant(X) # adding a constant\n",
    "\n",
    "reg7 = sm.OLS(y, X).fit()\n",
    "\n",
    "predictions7 = reg7.predict(X) \n",
    "resid7 = reg7.resid\n",
    "reg7.summary()"
   ]
  },
  {
   "cell_type": "markdown",
   "metadata": {},
   "source": [
    "### Look at AIC and BIC to choose between the models\n",
    "\n",
    "- AIC is an estimate of a constant plus the relative distance between the unknown true likelihood function of the data and the fitted likelihood function of the model, so that a lower AIC means a model is considered to be closer to the truth. \n",
    "- BIC is an estimate of a function of the posterior probability of a model being true, under a certain Bayesian setup, so that a lower BIC means that a model is considered to be more likely to be the true model. \n",
    "- https://www.methodology.psu.edu/resources/AIC-vs-BIC/\n",
    "\n",
    "### Compare Step 6 to Step 7\n",
    "\n",
    "#### Initial Model \n",
    "- R-squared:\t0.521\n",
    "- Adj. R-squared:\t0.520\n",
    "- AIC:\t1.486e+05 or 148,600\n",
    "- BIC:\t1.488e+05 or 148,800\n",
    "\n",
    "#### Step 6\n",
    "- R-Squared: 0.521 **(stayed the same)**\n",
    "- Adj. R-squared:\t0.520 **(stayed the same)**\n",
    "- AIC:\t1.486e+05 or 148,600 **(stayed the same)**\n",
    "- BIC:\t1.488e+05 or 148,800 **(stayed the same)**\n",
    "\n",
    "#### Step 7\n",
    "- R-Squared: 0.518 **(decreased)**\n",
    "- Adj. R-squared:\t0.517 **(decreased)**\n",
    "- AIC:\t1.488e+05 or 148,800 **(increased)**\n",
    "- BIC:\t1.490e+05 or 149,000 **(increased)**\n",
    "\n"
   ]
  },
  {
   "cell_type": "markdown",
   "metadata": {},
   "source": [
    "<h3 style=\"color:blue;\">FINAL MODEL - Step 6</h3>"
   ]
  },
  {
   "cell_type": "code",
   "execution_count": null,
   "metadata": {},
   "outputs": [],
   "source": [
    "#Code Block 26\n",
    "\n",
    "#Step 1: exclude 'major_purchase'\n",
    "#Step 2: exclude 'Length of Employment'\n",
    "#Step 3: exclude 'home_improvement'\n",
    "#Step 4: exclude 'house'\n",
    "#Step 5: exclude 'Own_RevLine_act'\n",
    "#Step 6: exclude 'car'\n",
    "\n",
    "X = df_reg[['Amount Funded', 'Total Debt', 'Annual Income', 'Revolving Balance',\n",
    "            'Total Revolving Credit Line', 'Term', \n",
    "            'Delinquencies Past 24 Months', 'Credit Inquires Last 6 Months',\n",
    "            'Open Accounts', 'Loan_Income','Debt_Income', 'RevBal_Line', 'RevBal_Income', \n",
    "            'Income Verification','IncVer_Income_act',  'OTHER', 'OWN', 'RENT', \n",
    "            'credit_card', 'medical', 'moving',\n",
    "            'other', 'renewable_energy', 'small_business', 'vacation', 'wedding']]\n",
    "\n",
    "X_excluded = df_reg[['major_purchase', 'Length of Employment', 'home_improvement', 'house' ,'Own_RevLine_act', 'car']]"
   ]
  },
  {
   "cell_type": "code",
   "execution_count": null,
   "metadata": {
    "scrolled": false
   },
   "outputs": [],
   "source": [
    "#Code Block 27\n",
    "\n",
    "X = sm.add_constant(X) # adding a constant\n",
    "\n",
    "reg6 = sm.OLS(y, X).fit()\n",
    "\n",
    "predictions6 = reg6.predict(X) \n",
    "resid6 = reg6.resid\n",
    "reg6.summary()"
   ]
  },
  {
   "cell_type": "code",
   "execution_count": null,
   "metadata": {},
   "outputs": [],
   "source": [
    "#Code Block 28\n",
    "\n",
    "#Create Predictions dataframe\n",
    "df_predictions6 = pd.DataFrame(predictions6)\n",
    "df_predictions6=df_predictions6.rename(columns = {0:'Int_Pred_6'})\n",
    "\n",
    "#Create Residuals dataframe\n",
    "df_resid6 = pd.DataFrame(resid6)\n",
    "df_resid6=df_resid6.rename(columns = {0:'Resid_6'})"
   ]
  },
  {
   "cell_type": "code",
   "execution_count": null,
   "metadata": {},
   "outputs": [],
   "source": [
    "#Code Block 29\n",
    "from statsmodels.stats.outliers_influence import variance_inflation_factor"
   ]
  },
  {
   "cell_type": "code",
   "execution_count": null,
   "metadata": {
    "scrolled": false
   },
   "outputs": [],
   "source": [
    "#Code Block 30\n",
    "\n",
    "vif = pd.DataFrame()\n",
    "vif[\"VIF Factor\"] = [variance_inflation_factor(X.values, i) for i in range(X.shape[1])]\n",
    "vif[\"features\"] = X.columns #adds a column with the labels\n",
    "round(vif, 1).sort_values(by = 'VIF Factor', ascending = False)"
   ]
  },
  {
   "cell_type": "code",
   "execution_count": null,
   "metadata": {},
   "outputs": [],
   "source": [
    "#Code Block 31\n",
    "\n",
    "X_corr = X.drop(['const'], axis=1)\n",
    "corrMatrix = X_corr.corr()\n",
    "df_corrMatrix = pd.DataFrame(corrMatrix)\n",
    "round(df_corrMatrix,3)"
   ]
  },
  {
   "cell_type": "code",
   "execution_count": null,
   "metadata": {},
   "outputs": [],
   "source": [
    "#Code Block 32\n",
    "\n",
    "colormap = plt.cm.viridis\n",
    "plt.figure(figsize=(14,10))\n",
    "plt.title('Correlation Heat Map', y=1.05, size=15)\n",
    "sns.heatmap(df_corrMatrix,linewidths=0.1,vmax=1.0, square=True, cmap=colormap, linecolor='white', annot=False)"
   ]
  },
  {
   "cell_type": "markdown",
   "metadata": {},
   "source": [
    "### Create Final Model Results with all features, predictions6, and residuals6"
   ]
  },
  {
   "cell_type": "code",
   "execution_count": null,
   "metadata": {},
   "outputs": [],
   "source": [
    "#Code Block 33\n",
    "\n",
    "df_reg_results = pd.concat([df_predictions6, df_resid6, df_reg], axis =1)\n",
    "df_reg_results.head()"
   ]
  },
  {
   "cell_type": "markdown",
   "metadata": {},
   "source": [
    "### Graphically looking at residuals using lowess\n",
    "\n",
    "- LOWESS (Locally Weighted Scatterplot Smoothing), is a tool used in regression analysis that creates a smooth line through a scatter plot to help you to see relationship between variables and foresee trends.\n",
    "- https://www.statisticshowto.com/lowess-smoothing/"
   ]
  },
  {
   "cell_type": "code",
   "execution_count": null,
   "metadata": {},
   "outputs": [],
   "source": [
    "#Code Block 34\n",
    "\n",
    "df_move_col = df_reg_results[['Member ID', 'Loan ID', 'Origination Date', 'Interest Rate']]\n",
    "df_reg_results = df_reg_results.drop(['Member ID', 'Loan ID', 'Origination Date', 'Interest Rate'], axis=1)\n",
    "df_reg_results = pd.concat([df_move_col, df_reg_results], axis =1)\n",
    "df_reg_results.head()"
   ]
  },
  {
   "cell_type": "code",
   "execution_count": null,
   "metadata": {},
   "outputs": [],
   "source": [
    "#Code Block 35\n",
    "\n",
    "plt.figure(figsize=(20,10)) #changes area of scatterplot\n",
    "sns.regplot(x='Int_Pred_6', y='Resid_6', lowess=True,\n",
    "              data = df_reg_results, scatter_kws={\"color\":\"blue\",\"alpha\":0.15, \"s\":100,\"linewidth\":2,\"edgecolor\":\"white\"}, \n",
    "              line_kws={'color': 'black'})"
   ]
  },
  {
   "cell_type": "code",
   "execution_count": null,
   "metadata": {},
   "outputs": [],
   "source": [
    "#Code Block 36\n",
    "\n",
    "df_reg_results.sort_values(by='Resid_6').head(10)"
   ]
  },
  {
   "cell_type": "code",
   "execution_count": null,
   "metadata": {},
   "outputs": [],
   "source": [
    "#Code Block 37\n",
    "\n",
    "df_reg_results.sort_values(by='Resid_6', ascending=False).head(10)"
   ]
  },
  {
   "cell_type": "code",
   "execution_count": null,
   "metadata": {},
   "outputs": [],
   "source": [
    "#Code Block 38\n",
    "\n",
    "X = sm.add_constant(X) # adding a constant\n",
    "\n",
    "reg6 = sm.OLS(y, X).fit()\n",
    "\n",
    "predictions6 = reg6.predict(X) \n",
    "resid6 = reg6.resid\n",
    "reg6.summary()"
   ]
  },
  {
   "cell_type": "markdown",
   "metadata": {},
   "source": [
    "### View coefficents of final model"
   ]
  },
  {
   "cell_type": "code",
   "execution_count": null,
   "metadata": {},
   "outputs": [],
   "source": [
    "#Code Block 39\n",
    "\n",
    "print(reg6.params)"
   ]
  },
  {
   "cell_type": "markdown",
   "metadata": {},
   "source": [
    "### View t-values of final model"
   ]
  },
  {
   "cell_type": "code",
   "execution_count": null,
   "metadata": {},
   "outputs": [],
   "source": [
    "#Code Block 40 \n",
    "reg6.tvalues"
   ]
  },
  {
   "cell_type": "markdown",
   "metadata": {},
   "source": [
    "### View t-values in absolute value order"
   ]
  },
  {
   "cell_type": "code",
   "execution_count": null,
   "metadata": {},
   "outputs": [],
   "source": [
    "#Code Block 41\n",
    "t_values_reg6 = pd.DataFrame(reg6.tvalues).reset_index()\n",
    "t_values_reg6=t_values_reg6.rename(columns = {'index': \"Coefficient\", 0:'t_value'})\n",
    "t_values_reg6['abs'] = abs(t_values_reg6['t_value'])\n",
    "t_values_reg6 = t_values_reg6.sort_values(by='abs', ascending=False)\n",
    "t_values_reg6 = t_values_reg6.drop(['abs'], axis=1)\n",
    "t_values_reg6"
   ]
  },
  {
   "cell_type": "markdown",
   "metadata": {},
   "source": [
    "### Graphically view a few select features\n",
    "- Amount Funded\n",
    "- Term\n",
    "- RevBal_Line\n",
    "- Revolving Balance\n",
    "- Total Revolving Credit Line \n",
    "- renewable_energy"
   ]
  },
  {
   "cell_type": "code",
   "execution_count": null,
   "metadata": {
    "scrolled": false
   },
   "outputs": [],
   "source": [
    "#Code Block 42\n",
    "\n",
    "sns.set(style='dark')\n",
    "plt.figure(figsize=(20,40))\n",
    "\n",
    "#  Amount Funded - Predicted\n",
    "ax1 = plt.subplot2grid((6, 2), (0, 0))\n",
    "plt.title('Amount Funded - Predicted Interest Rate', fontweight='bold', color = 'blue', fontsize='17', horizontalalignment='center')\n",
    "ax1 = sns.regplot(x='Amount Funded', y='Int_Pred_6', \n",
    "              data = df_reg_results, scatter_kws={\"color\":\"blue\",\"alpha\":0.15, \"s\":100,\"linewidth\":2,\"edgecolor\":\"white\"}, \n",
    "              line_kws={'color': 'black'})\n",
    "\n",
    "\n",
    "#  Amount Funded - Actual\n",
    "ax2 = plt.subplot2grid((6, 2), (0, 1))\n",
    "plt.title('Amount Funded - Actual Interest Rate', fontweight='bold', color = 'green', fontsize='17', horizontalalignment='center')\n",
    "ax2 = sns.regplot(x='Amount Funded', y='Interest Rate', \n",
    "              data = df_reg_results, scatter_kws={\"color\":\"green\",\"alpha\":0.15, \"s\":100,\"linewidth\":2,\"edgecolor\":\"white\"}, \n",
    "              line_kws={'color': 'black'})\n",
    "\n",
    "\n",
    "#  Term - Predicted\n",
    "ax3 = plt.subplot2grid((6, 2), (1, 0))\n",
    "plt.title('Term - Predicted Interest Rate', fontweight='bold', color = 'blue', fontsize='17', horizontalalignment='center')\n",
    "ax3 = sns.regplot(x='Term', y='Int_Pred_6', \n",
    "              data = df_reg_results, scatter_kws={\"color\":\"blue\",\"alpha\":0.15, \"s\":100,\"linewidth\":2,\"edgecolor\":\"white\"}, \n",
    "              line_kws={'color': 'black'})\n",
    "\n",
    "\n",
    "#  Term - Actual\n",
    "ax4 = plt.subplot2grid((6, 2), (1, 1))\n",
    "plt.title('Term - Actual Interest Rate', fontweight='bold', color = 'green', fontsize='17', horizontalalignment='center')\n",
    "ax4 = sns.regplot(x='Term', y='Interest Rate', \n",
    "              data = df_reg_results, scatter_kws={\"color\":\"green\",\"alpha\":0.15, \"s\":100,\"linewidth\":2,\"edgecolor\":\"white\"}, \n",
    "              line_kws={'color': 'black'})\n",
    "\n",
    "#  RevBal_Line - Predicted\n",
    "ax1 = plt.subplot2grid((6, 2), (2, 0))\n",
    "plt.title('RevBal_Line - Predicted Interest Rate', fontweight='bold', color = 'blue', fontsize='17', horizontalalignment='center')\n",
    "ax1 = sns.regplot(x='RevBal_Line', y='Int_Pred_6', \n",
    "              data = df_reg_results, scatter_kws={\"color\":\"blue\",\"alpha\":0.15, \"s\":100,\"linewidth\":2,\"edgecolor\":\"white\"}, \n",
    "              line_kws={'color': 'black'})\n",
    "\n",
    "\n",
    "#  RevBal_Line - Actual\n",
    "ax2 = plt.subplot2grid((6, 2), (2, 1))\n",
    "plt.title('RevBal_Line - Actual Interest Rate', fontweight='bold', color = 'green', fontsize='17', horizontalalignment='center')\n",
    "ax2 = sns.regplot(x='RevBal_Line', y='Interest Rate', \n",
    "              data = df_reg_results, scatter_kws={\"color\":\"green\",\"alpha\":0.15, \"s\":100,\"linewidth\":2,\"edgecolor\":\"white\"}, \n",
    "              line_kws={'color': 'black'})\n",
    "\n",
    "#  Revolving Balance - Predicted\n",
    "ax1 = plt.subplot2grid((6, 2), (3, 0))\n",
    "plt.title('Revolving Balance - Predicted Interest Rate', fontweight='bold', color = 'blue', fontsize='17', horizontalalignment='center')\n",
    "ax1 = sns.regplot(x='Revolving Balance', y='Int_Pred_6', \n",
    "              data = df_reg_results, scatter_kws={\"color\":\"blue\",\"alpha\":0.15, \"s\":100,\"linewidth\":2,\"edgecolor\":\"white\"}, \n",
    "              line_kws={'color': 'black'})\n",
    "\n",
    "\n",
    "#  Revolving Balance - Actual\n",
    "ax2 = plt.subplot2grid((6, 2), (3, 1))\n",
    "plt.title('Revolving Balance - Actual Interest Rate', fontweight='bold', color = 'green', fontsize='17', horizontalalignment='center')\n",
    "ax2 = sns.regplot(x='Revolving Balance', y='Interest Rate', \n",
    "              data = df_reg_results, scatter_kws={\"color\":\"green\",\"alpha\":0.15, \"s\":100,\"linewidth\":2,\"edgecolor\":\"white\"}, \n",
    "              line_kws={'color': 'black'})\n",
    "\n",
    "#  Total Revolving Credit Line - Predicted\n",
    "ax1 = plt.subplot2grid((6, 2), (4, 0))\n",
    "plt.title('Total Revolving Credit Line - Predicted Interest Rate', fontweight='bold', color = 'blue', fontsize='17', horizontalalignment='center')\n",
    "ax1 = sns.regplot(x='Total Revolving Credit Line', y='Int_Pred_6', \n",
    "              data = df_reg_results, scatter_kws={\"color\":\"blue\",\"alpha\":0.15, \"s\":100,\"linewidth\":2,\"edgecolor\":\"white\"}, \n",
    "              line_kws={'color': 'black'})\n",
    "\n",
    "\n",
    "#  Total Revolving Credit Line - Actual\n",
    "ax2 = plt.subplot2grid((6, 2), (4, 1))\n",
    "plt.title('Total Revolving Credit Line - Actual Interest Rate', fontweight='bold', color = 'green', fontsize='17', horizontalalignment='center')\n",
    "ax2 = sns.regplot(x='Total Revolving Credit Line', y='Interest Rate', \n",
    "              data = df_reg_results, scatter_kws={\"color\":\"green\",\"alpha\":0.15, \"s\":100,\"linewidth\":2,\"edgecolor\":\"white\"}, \n",
    "              line_kws={'color': 'black'})\n",
    "\n",
    "#  renewable_energy - Predicted\n",
    "ax1 = plt.subplot2grid((6, 2), (5, 0))\n",
    "plt.title('renewable_energy - Predicted Interest Rate', fontweight='bold', color = 'blue', fontsize='17', horizontalalignment='center')\n",
    "ax1 = sns.regplot(x='renewable_energy', y='Int_Pred_6', \n",
    "              data = df_reg_results, scatter_kws={\"color\":\"blue\",\"alpha\":0.15, \"s\":100,\"linewidth\":2,\"edgecolor\":\"white\"}, \n",
    "              line_kws={'color': 'black'})\n",
    "\n",
    "\n",
    "#  renewable_energy - Actual\n",
    "ax2 = plt.subplot2grid((6, 2), (5, 1))\n",
    "plt.title('renewable_energy - Actual Interest Rate', fontweight='bold', color = 'green', fontsize='17', horizontalalignment='center')\n",
    "ax2 = sns.regplot(x='renewable_energy', y='Interest Rate', \n",
    "              data = df_reg_results, scatter_kws={\"color\":\"green\",\"alpha\":0.15, \"s\":100,\"linewidth\":2,\"edgecolor\":\"white\"}, \n",
    "              line_kws={'color': 'black'})\n"
   ]
  },
  {
   "cell_type": "markdown",
   "metadata": {},
   "source": [
    "### Export final data as a csv file"
   ]
  },
  {
   "cell_type": "code",
   "execution_count": null,
   "metadata": {},
   "outputs": [],
   "source": [
    "#Code Block 43\n",
    "df_reg_results.to_csv('data/FinalDataResults.csv')"
   ]
  },
  {
   "cell_type": "code",
   "execution_count": null,
   "metadata": {},
   "outputs": [],
   "source": []
  }
 ],
 "metadata": {
  "kernelspec": {
   "display_name": "Python 3",
   "language": "python",
   "name": "python3"
  },
  "language_info": {
   "codemirror_mode": {
    "name": "ipython",
    "version": 3
   },
   "file_extension": ".py",
   "mimetype": "text/x-python",
   "name": "python",
   "nbconvert_exporter": "python",
   "pygments_lexer": "ipython3",
   "version": "3.7.7"
  },
  "toc": {
   "base_numbering": 1,
   "nav_menu": {
    "height": "344px",
    "width": "350px"
   },
   "number_sections": true,
   "sideBar": true,
   "skip_h1_title": false,
   "title_cell": "Table of Contents",
   "title_sidebar": "Contents",
   "toc_cell": false,
   "toc_position": {
    "height": "calc(100% - 180px)",
    "left": "10px",
    "top": "150px",
    "width": "266.797px"
   },
   "toc_section_display": true,
   "toc_window_display": true
  }
 },
 "nbformat": 4,
 "nbformat_minor": 2
}
